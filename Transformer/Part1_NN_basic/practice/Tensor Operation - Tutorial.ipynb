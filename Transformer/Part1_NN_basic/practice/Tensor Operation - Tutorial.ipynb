{
 "cells": [
  {
   "cell_type": "markdown",
   "metadata": {},
   "source": [
    "## Deep Learning - Tensor Manipulation\n",
    "  \n",
    "### Author : Sangkeun Jung\n",
    "  \n",
    "### Table of Contents\n",
    "WE can roughly categorize the data handling with following types:\n",
    "- Tensor\n",
    "  - Tensor Creation\n",
    "    - Python object to Tensor Object\n",
    "    - Numpy object to Tensor object\n",
    "    - Tensor Types\n",
    "  - Tensor Shape\n",
    "    - check shape\n",
    "    - reshape\n",
    "    - view\n",
    "  - Tensor Device Change\n",
    "    - cpu or CUDA\n",
    "  - Tensor Data Fetch\n",
    "    - Tensor data to Python object\n",
    "    - Tensor data to Numpy object\n",
    "    - Tensor scalar to Python object(item)\n",
    "- 1 to N Operations (a Tensor -> a list to Tensors)\n",
    "- N to 1 Operations (a list of Tensors -> a Tensor)\n",
    "- Dimension Operations\n",
    "  - squeeze\n",
    "  - unsqueeze\n",
    "  - permutation\n",
    "  - transpose\n",
    "  - ...\n",
    "- Indexing\n",
    "- Reduce Operations\n",
    "  - min, max, mean\n",
    "  - argmax, argmin\n",
    "\n",
    "### Tensor Creation\n",
    "Python Object to Tensor\n",
    "In python, we have several types of python-objects to express number.\n",
    "- scalar(integer, float)\n",
    "- array(list)\n",
    "We can simply create tensor with following operations"
   ]
  },
  {
   "cell_type": "code",
   "execution_count": 1,
   "metadata": {},
   "outputs": [
    {
     "name": "stdout",
     "output_type": "stream",
     "text": [
      "<class 'float'>\n",
      "<class 'torch.Tensor'>\n"
     ]
    },
    {
     "data": {
      "text/plain": [
       "tensor(34.)"
      ]
     },
     "execution_count": 1,
     "metadata": {},
     "output_type": "execute_result"
    }
   ],
   "source": [
    "import torch\n",
    "# float variable to tensor object\n",
    "x = 34.0 # float value\n",
    "print(type(x))\n",
    "\n",
    "y = torch.tensor(x)\n",
    "print(type(y))\n",
    "y"
   ]
  },
  {
   "cell_type": "code",
   "execution_count": 2,
   "metadata": {},
   "outputs": [
    {
     "name": "stdout",
     "output_type": "stream",
     "text": [
      "<class 'torch.Tensor'>\n"
     ]
    },
    {
     "data": {
      "text/plain": [
       "tensor(34.)"
      ]
     },
     "execution_count": 2,
     "metadata": {},
     "output_type": "execute_result"
    }
   ],
   "source": [
    "# directly create tensor\n",
    "y = torch.tensor(34.0)\n",
    "print(type(y))\n",
    "y"
   ]
  },
  {
   "cell_type": "code",
   "execution_count": null,
   "metadata": {},
   "outputs": [],
   "source": []
  }
 ],
 "metadata": {
  "kernelspec": {
   "display_name": "base",
   "language": "python",
   "name": "python3"
  },
  "language_info": {
   "codemirror_mode": {
    "name": "ipython",
    "version": 3
   },
   "file_extension": ".py",
   "mimetype": "text/x-python",
   "name": "python",
   "nbconvert_exporter": "python",
   "pygments_lexer": "ipython3",
   "version": "3.9.13"
  }
 },
 "nbformat": 4,
 "nbformat_minor": 2
}
